{
 "cells": [
  {
   "cell_type": "code",
   "execution_count": null,
   "metadata": {},
   "outputs": [],
   "source": [
    "import gym\n",
    "\n",
    "ENV_NAME = 'LunarLander-v2'\n",
    "env = gym.make(ENV_NAME, render_mode='human')\n",
    "\n",
    "N_EPISODES = 5\n",
    "for episode in range(1, N_EPISODES + 1):\n",
    "    state, _ = env.reset()\n",
    "    score = 0.0\n",
    "\n",
    "    t = 0\n",
    "\n",
    "    while True:\n",
    "        action = env.action_space.sample()  # random action\n",
    "        state, reward, terminated, truncated, _ = env.step(action)\n",
    "        score += reward\n",
    "        t += 1\n",
    "        if terminated or truncated:\n",
    "            break\n",
    "\n",
    "    print(f'Episode {episode}: {t} steps, score={score:.1f}')\n",
    "\n",
    "env.close()"
   ]
  }
 ],
 "metadata": {
  "kernelspec": {
   "display_name": "venv",
   "language": "python",
   "name": "python3"
  },
  "language_info": {
   "name": "python",
   "version": "3.10.12"
  }
 },
 "nbformat": 4,
 "nbformat_minor": 2
}
