{
 "cells": [
  {
   "cell_type": "code",
   "execution_count": 4,
   "metadata": {},
   "outputs": [
    {
     "ename": "TypeError",
     "evalue": "ReplayBuffer.sample() got an unexpected keyword argument 'device'",
     "output_type": "error",
     "traceback": [
      "\u001b[0;31m---------------------------------------------------------------------------\u001b[0m",
      "\u001b[0;31mTypeError\u001b[0m                                 Traceback (most recent call last)",
      "Cell \u001b[0;32mIn[4], line 17\u001b[0m\n\u001b[1;32m     14\u001b[0m env \u001b[38;5;241m=\u001b[39m RushHourEnv(vehicle_data)\n\u001b[1;32m     16\u001b[0m \u001b[38;5;66;03m# 학습 수행\u001b[39;00m\n\u001b[0;32m---> 17\u001b[0m rewards, steps, last_episode_steps, max_reward, max_reward_episode \u001b[38;5;241m=\u001b[39m \u001b[43mtrain_dqn\u001b[49m\u001b[43m(\u001b[49m\u001b[43menv\u001b[49m\u001b[43m,\u001b[49m\u001b[43m \u001b[49m\u001b[43mnum_episodes\u001b[49m\u001b[38;5;241;43m=\u001b[39;49m\u001b[38;5;241;43m1\u001b[39;49m\u001b[43m)\u001b[49m  \u001b[38;5;66;03m# 마지막 에피소드 데이터 반환\u001b[39;00m\n\u001b[1;32m     18\u001b[0m \u001b[38;5;28mprint\u001b[39m(\u001b[38;5;124m\"\u001b[39m\u001b[38;5;124mLast Episode Steps: \u001b[39m\u001b[38;5;124m\"\u001b[39m, last_episode_steps)\n\u001b[1;32m     19\u001b[0m \u001b[38;5;28mprint\u001b[39m(\u001b[38;5;124mf\u001b[39m\u001b[38;5;124m\"\u001b[39m\u001b[38;5;124mMaximum Reward: \u001b[39m\u001b[38;5;132;01m{\u001b[39;00mmax_reward\u001b[38;5;132;01m}\u001b[39;00m\u001b[38;5;124m at Episode \u001b[39m\u001b[38;5;132;01m{\u001b[39;00mmax_reward_episode\u001b[38;5;132;01m}\u001b[39;00m\u001b[38;5;124m\"\u001b[39m)\n",
      "File \u001b[0;32m~/rushHour/trains/train.py:57\u001b[0m, in \u001b[0;36mtrain_dqn\u001b[0;34m(env, num_episodes, batch_size, gamma, epsilon_start, epsilon_end, epsilon_decay)\u001b[0m\n\u001b[1;32m     54\u001b[0m steps \u001b[38;5;241m+\u001b[39m\u001b[38;5;241m=\u001b[39m \u001b[38;5;241m1\u001b[39m\n\u001b[1;32m     56\u001b[0m \u001b[38;5;28;01mif\u001b[39;00m \u001b[38;5;28mlen\u001b[39m(replay_buffer) \u001b[38;5;241m>\u001b[39m\u001b[38;5;241m=\u001b[39m batch_size:\n\u001b[0;32m---> 57\u001b[0m     states, actions, rewards, next_states, dones \u001b[38;5;241m=\u001b[39m \u001b[43mreplay_buffer\u001b[49m\u001b[38;5;241;43m.\u001b[39;49m\u001b[43msample\u001b[49m\u001b[43m(\u001b[49m\u001b[43mbatch_size\u001b[49m\u001b[43m,\u001b[49m\u001b[43m \u001b[49m\u001b[43mdevice\u001b[49m\u001b[38;5;241;43m=\u001b[39;49m\u001b[43mdevice\u001b[49m\u001b[43m)\u001b[49m\n\u001b[1;32m     59\u001b[0m     q_values \u001b[38;5;241m=\u001b[39m policy_net(states)\u001b[38;5;241m.\u001b[39mgather(\u001b[38;5;241m1\u001b[39m, actions\u001b[38;5;241m.\u001b[39munsqueeze(\u001b[38;5;241m1\u001b[39m))\n\u001b[1;32m     60\u001b[0m     next_q_values \u001b[38;5;241m=\u001b[39m target_net(next_states)\u001b[38;5;241m.\u001b[39mmax(\u001b[38;5;241m1\u001b[39m)[\u001b[38;5;241m0\u001b[39m]\u001b[38;5;241m.\u001b[39mdetach()\n",
      "\u001b[0;31mTypeError\u001b[0m: ReplayBuffer.sample() got an unexpected keyword argument 'device'"
     ]
    }
   ],
   "source": [
    "import sys\n",
    "import os\n",
    "import time\n",
    "from environments.environment import RushHourEnv\n",
    "from trains.train import train_dqn\n",
    "from utils.visualize import plot_rewards_and_steps\n",
    "from environments.vehicle_data import vehicle_data\n",
    "\n",
    "# 프로젝트 루트를 Python 경로에 추가\n",
    "project_root = os.path.abspath(\".\")\n",
    "sys.path.append(project_root)\n",
    "\n",
    "# vehicle_data를 인자로 전달하여 환경 생성\n",
    "env = RushHourEnv(vehicle_data)\n",
    "\n",
    "# 학습 수행\n",
    "rewards, steps, last_episode_steps, max_reward, max_reward_episode = train_dqn(env, num_episodes=1)  # 마지막 에피소드 데이터 반환\n",
    "print(\"Last Episode Steps: \", last_episode_steps)\n",
    "print(f\"Maximum Reward: {max_reward} at Episode {max_reward_episode}\")\n",
    "\n",
    "# 결과 시각화\n",
    "plot_rewards_and_steps(rewards, steps)\n",
    "\n",
    "# 마지막 에피소드 렌더링\n",
    "env.reset()  # 환경 초기화\n",
    "for state, action, _, _, _ in last_episode_steps:\n",
    "    env.render()  # 현재 상태 렌더링\n",
    "    time.sleep(0.1)  # 렌더링 간 딜레이\n",
    "    env.step(action)  # 저장된 행동 수행\n",
    "env.render()  # 마지막 상태 렌더링\n"
   ]
  },
  {
   "cell_type": "code",
   "execution_count": 2,
   "metadata": {},
   "outputs": [],
   "source": [
    "import time\n",
    "\n",
    "def render_last_episode(env, step_data):\n",
    "    \"\"\"\n",
    "    저장된 상태-액션 쌍을 기반으로 마지막 에피소드를 렌더링합니다.\n",
    "    :param env: RushHourEnv 환경\n",
    "    :param step_data: 마지막 에피소드의 (상태, 행동) 리스트\n",
    "    \"\"\"\n",
    "    env.reset()  # 환경 초기화\n",
    "    for state, action in step_data:\n",
    "        env.render()  # 현재 상태 렌더링\n",
    "        time.sleep(0.5)  # 렌더링 간 딜레이\n",
    "        env.step(action)  # 저장된 행동 수행\n",
    "    env.render()  # 마지막 상태 렌더링\n",
    "\n",
    "# 사용 예시\n",
    "# last_episode_steps = [(state1, action1), (state2, action2), ...]\n",
    "# render_last_episode(env, last_episode_steps)\n"
   ]
  },
  {
   "cell_type": "code",
   "execution_count": 11,
   "metadata": {},
   "outputs": [
    {
     "name": "stdout",
     "output_type": "stream",
     "text": [
      "Episode 0, Total Reward: -862.9000000000143, Epsilon: 0.99\n",
      "Episode 1, Total Reward: -918.9000000000156, Epsilon: 0.99\n"
     ]
    },
    {
     "ename": "KeyboardInterrupt",
     "evalue": "",
     "output_type": "error",
     "traceback": [
      "\u001b[0;31m---------------------------------------------------------------------------\u001b[0m",
      "\u001b[0;31mKeyboardInterrupt\u001b[0m                         Traceback (most recent call last)",
      "Cell \u001b[0;32mIn[11], line 2\u001b[0m\n\u001b[1;32m      1\u001b[0m \u001b[38;5;66;03m# 학습 후 렌더링\u001b[39;00m\n\u001b[0;32m----> 2\u001b[0m rewards_history, steps_history, last_episode_steps, max_reward, max_reward_episode \u001b[38;5;241m=\u001b[39m \u001b[43mtrain_dqn\u001b[49m\u001b[43m(\u001b[49m\u001b[43menv\u001b[49m\u001b[43m)\u001b[49m\n\u001b[1;32m      4\u001b[0m \u001b[38;5;66;03m# 마지막 에피소드 렌더링\u001b[39;00m\n\u001b[1;32m      5\u001b[0m render_last_episode(env, last_episode_steps)\n",
      "File \u001b[0;32m~/rushHour/trains/train.py:77\u001b[0m, in \u001b[0;36mtrain_dqn\u001b[0;34m(env, num_episodes, batch_size, gamma, epsilon_start, epsilon_end, epsilon_decay)\u001b[0m\n\u001b[1;32m     75\u001b[0m \u001b[38;5;66;03m# 손실 계산 및 역전파\u001b[39;00m\n\u001b[1;32m     76\u001b[0m loss \u001b[38;5;241m=\u001b[39m nn\u001b[38;5;241m.\u001b[39mfunctional\u001b[38;5;241m.\u001b[39mmse_loss(q_values, targets)\n\u001b[0;32m---> 77\u001b[0m \u001b[43moptimizer\u001b[49m\u001b[38;5;241;43m.\u001b[39;49m\u001b[43mzero_grad\u001b[49m\u001b[43m(\u001b[49m\u001b[43m)\u001b[49m\n\u001b[1;32m     78\u001b[0m loss\u001b[38;5;241m.\u001b[39mbackward()\n\u001b[1;32m     79\u001b[0m optimizer\u001b[38;5;241m.\u001b[39mstep()\n",
      "File \u001b[0;32m~/rushHour/venv/lib/python3.10/site-packages/torch/_compile.py:22\u001b[0m, in \u001b[0;36m_disable_dynamo.<locals>.inner\u001b[0;34m(*args, **kwargs)\u001b[0m\n\u001b[1;32m     11\u001b[0m \u001b[38;5;250m\u001b[39m\u001b[38;5;124;03m\"\"\"\u001b[39;00m\n\u001b[1;32m     12\u001b[0m \u001b[38;5;124;03mThis API should be only used inside torch, external users should still use\u001b[39;00m\n\u001b[1;32m     13\u001b[0m \u001b[38;5;124;03mtorch._dynamo.disable. The main goal of this API is to avoid circular\u001b[39;00m\n\u001b[0;32m   (...)\u001b[0m\n\u001b[1;32m     18\u001b[0m \u001b[38;5;124;03mthe invocation of the decorated function.\u001b[39;00m\n\u001b[1;32m     19\u001b[0m \u001b[38;5;124;03m\"\"\"\u001b[39;00m\n\u001b[1;32m     20\u001b[0m \u001b[38;5;28;01mif\u001b[39;00m fn \u001b[38;5;129;01mis\u001b[39;00m \u001b[38;5;129;01mnot\u001b[39;00m \u001b[38;5;28;01mNone\u001b[39;00m:\n\u001b[0;32m---> 22\u001b[0m     \u001b[38;5;129m@functools\u001b[39m\u001b[38;5;241m.\u001b[39mwraps(fn)\n\u001b[1;32m     23\u001b[0m     \u001b[38;5;28;01mdef\u001b[39;00m \u001b[38;5;21minner\u001b[39m(\u001b[38;5;241m*\u001b[39margs, \u001b[38;5;241m*\u001b[39m\u001b[38;5;241m*\u001b[39mkwargs):\n\u001b[1;32m     24\u001b[0m         \u001b[38;5;66;03m# cache this on the first invocation to avoid adding too much overhead.\u001b[39;00m\n\u001b[1;32m     25\u001b[0m         disable_fn \u001b[38;5;241m=\u001b[39m \u001b[38;5;28mgetattr\u001b[39m(fn, \u001b[38;5;124m\"\u001b[39m\u001b[38;5;124m__dynamo_disable\u001b[39m\u001b[38;5;124m\"\u001b[39m, \u001b[38;5;28;01mNone\u001b[39;00m)\n\u001b[1;32m     26\u001b[0m         \u001b[38;5;28;01mif\u001b[39;00m disable_fn \u001b[38;5;129;01mis\u001b[39;00m \u001b[38;5;28;01mNone\u001b[39;00m:\n",
      "\u001b[0;31mKeyboardInterrupt\u001b[0m: "
     ]
    }
   ],
   "source": [
    "# 학습 후 렌더링\n",
    "rewards_history, steps_history, last_episode_steps, max_reward, max_reward_episode = train_dqn(env)\n",
    "\n",
    "# 마지막 에피소드 렌더링\n",
    "render_last_episode(env, last_episode_steps)\n"
   ]
  },
  {
   "cell_type": "code",
   "execution_count": 8,
   "metadata": {},
   "outputs": [
    {
     "name": "stdout",
     "output_type": "stream",
     "text": [
      "마지막 에피소드 차량 이동 정보:\n",
      "Step 2: 차량 0를 왼쪽/위로 이동\n",
      "Step 23: 차량 2를 왼쪽/위로 이동\n"
     ]
    }
   ],
   "source": [
    "# 마지막 에피소드 이동 정보 출력\n",
    "print(\"마지막 에피소드 차량 이동 정보:\")\n",
    "print_vehicle_movements_unique(last_episode_steps, env)\n"
   ]
  },
  {
   "cell_type": "code",
   "execution_count": null,
   "metadata": {},
   "outputs": [],
   "source": []
  }
 ],
 "metadata": {
  "kernelspec": {
   "display_name": "venv",
   "language": "python",
   "name": "python3"
  },
  "language_info": {
   "codemirror_mode": {
    "name": "ipython",
    "version": 3
   },
   "file_extension": ".py",
   "mimetype": "text/x-python",
   "name": "python",
   "nbconvert_exporter": "python",
   "pygments_lexer": "ipython3",
   "version": "3.10.12"
  }
 },
 "nbformat": 4,
 "nbformat_minor": 2
}
