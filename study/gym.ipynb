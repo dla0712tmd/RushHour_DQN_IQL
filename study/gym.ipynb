{
 "cells": [
  {
   "cell_type": "code",
   "execution_count": 1,
   "metadata": {},
   "outputs": [
    {
     "name": "stderr",
     "output_type": "stream",
     "text": [
      "/home/ljm8350/rushHour/venv/lib/python3.10/site-packages/gym/core.py:317: DeprecationWarning: \u001b[33mWARN: Initializing wrapper in old step API which returns one bool instead of two. It is recommended to set `new_step_api=True` to use new step API. This will be the default behaviour in future.\u001b[0m\n",
      "  deprecation(\n",
      "/home/ljm8350/rushHour/venv/lib/python3.10/site-packages/gym/wrappers/step_api_compatibility.py:39: DeprecationWarning: \u001b[33mWARN: Initializing environment in old step API which returns one bool instead of two. It is recommended to set `new_step_api=True` to use new step API. This will be the default behaviour in future.\u001b[0m\n",
      "  deprecation(\n"
     ]
    },
    {
     "name": "stdout",
     "output_type": "stream",
     "text": [
      "Episode 1: 93 steps, score=-301.3\n",
      "Episode 2: 69 steps, score=-68.9\n",
      "Episode 3: 120 steps, score=-218.8\n",
      "Episode 4: 98 steps, score=-140.2\n",
      "Episode 5: 69 steps, score=-71.1\n"
     ]
    }
   ],
   "source": [
    "import gym\n",
    "\n",
    "ENV_NAME = 'LunarLander-v2'\n",
    "env = gym.make(ENV_NAME, render_mode='human')\n",
    "\n",
    "N_EPISODES = 5\n",
    "for episode in range(1, N_EPISODES + 1):\n",
    "    reset_output = env.reset()\n",
    "    state = reset_output[0]  # 첫 번째 값은 상태\n",
    "    info = reset_output[1]   # 두 번째 값은 정보\n",
    "\n",
    "    score = 0.0\n",
    "    t = 0\n",
    "\n",
    "    while True:\n",
    "        action = env.action_space.sample()  # 랜덤 액션\n",
    "        state, reward, done, info = env.step(action)  # 반환값 4개로 unpack\n",
    "        score += reward\n",
    "        t += 1\n",
    "        if done:\n",
    "            break\n",
    "\n",
    "    print(f'Episode {episode}: {t} steps, score={score:.1f}')\n",
    "\n",
    "env.close()\n"
   ]
  },
  {
   "cell_type": "code",
   "execution_count": 1,
   "metadata": {},
   "outputs": [
    {
     "name": "stderr",
     "output_type": "stream",
     "text": [
      "/home/ljm8350/rushHour/venv/lib/python3.10/site-packages/gym/core.py:317: DeprecationWarning: \u001b[33mWARN: Initializing wrapper in old step API which returns one bool instead of two. It is recommended to set `new_step_api=True` to use new step API. This will be the default behaviour in future.\u001b[0m\n",
      "  deprecation(\n",
      "/home/ljm8350/rushHour/venv/lib/python3.10/site-packages/gym/wrappers/step_api_compatibility.py:39: DeprecationWarning: \u001b[33mWARN: Initializing environment in old step API which returns one bool instead of two. It is recommended to set `new_step_api=True` to use new step API. This will be the default behaviour in future.\u001b[0m\n",
      "  deprecation(\n",
      "/home/ljm8350/rushHour/venv/lib/python3.10/site-packages/gym/core.py:49: DeprecationWarning: \u001b[33mWARN: You are calling render method, but you didn't specified the argument render_mode at environment initialization. To maintain backward compatibility, the environment will render in human mode.\n",
      "If you want to render in human mode, initialize the environment in this way: gym.make('EnvName', render_mode='human') and don't call the render method.\n",
      "See here for more information: https://www.gymlibrary.ml/content/api/\u001b[0m\n",
      "  deprecation(\n",
      "/home/ljm8350/rushHour/venv/lib/python3.10/site-packages/gym/core.py:49: DeprecationWarning: \u001b[33mWARN: You are calling render method, but you didn't specified the argument render_mode at environment initialization. To maintain backward compatibility, the environment will render in human mode.\n",
      "If you want to render in human mode, initialize the environment in this way: gym.make('EnvName', render_mode='human') and don't call the render method.\n",
      "See here for more information: https://www.gymlibrary.ml/content/api/\u001b[0m\n",
      "  deprecation(\n"
     ]
    },
    {
     "name": "stdout",
     "output_type": "stream",
     "text": [
      "Total reward: 0.0\n"
     ]
    },
    {
     "ename": "",
     "evalue": "",
     "output_type": "error",
     "traceback": [
      "\u001b[1;31m현재 셀 또는 이전 셀에서 코드를 실행하는 동안 Kernel이 충돌했습니다. \n",
      "\u001b[1;31m셀의 코드를 검토하여 가능한 오류 원인을 식별하세요. \n",
      "\u001b[1;31m자세한 내용을 보려면 <a href='https://aka.ms/vscodeJupyterKernelCrash'>여기</a>를 클릭하세요. \n",
      "\u001b[1;31m자세한 내용은 Jupyter <a href='command:jupyter.viewOutput'>로그</a>를 참조하세요."
     ]
    }
   ],
   "source": [
    "import gym\n",
    "\n",
    "# Toy Text 환경인 FrozenLake-v1 환경 초기화\n",
    "env = gym.make(\"FrozenLake-v1\", is_slippery=True)  # is_slippery=True로 미끄러운 환경\n",
    "\n",
    "# 환경 초기화\n",
    "state = env.reset()\n",
    "env.render()\n",
    "\n",
    "done = False\n",
    "total_reward = 0\n",
    "\n",
    "# 에피소드 실행\n",
    "while not done:\n",
    "    # 무작위로 행동 선택\n",
    "    action = env.action_space.sample()\n",
    "    \n",
    "    # 환경에 행동 적용\n",
    "    next_state, reward, done, info = env.step(action)\n",
    "    env.render()\n",
    "    \n",
    "    # 보상 누적\n",
    "    total_reward += reward\n",
    "\n",
    "print(f\"Total reward: {total_reward}\")\n"
   ]
  }
 ],
 "metadata": {
  "kernelspec": {
   "display_name": "venv",
   "language": "python",
   "name": "python3"
  },
  "language_info": {
   "codemirror_mode": {
    "name": "ipython",
    "version": 3
   },
   "file_extension": ".py",
   "mimetype": "text/x-python",
   "name": "python",
   "nbconvert_exporter": "python",
   "pygments_lexer": "ipython3",
   "version": "3.10.12"
  }
 },
 "nbformat": 4,
 "nbformat_minor": 2
}
